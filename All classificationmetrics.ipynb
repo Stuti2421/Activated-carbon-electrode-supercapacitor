{
 "cells": [
  {
   "cell_type": "code",
   "execution_count": 1,
   "id": "8c2fd30b-1741-45f3-a472-817405e8f6d3",
   "metadata": {},
   "outputs": [],
   "source": [
    "import pandas as pd\n",
    "import matplotlib.pyplot as plt\n",
    "import numpy as np\n",
    "import seaborn as sns"
   ]
  },
  {
   "cell_type": "code",
   "execution_count": 2,
   "id": "c6bf1005-92bd-483c-a02a-def471ac403c",
   "metadata": {},
   "outputs": [],
   "source": [
    "df = pd.read_csv(r\"C:\\Users\\RGIPT\\Documents\\Classification\\DATASET_ weka_679.csv\")"
   ]
  },
  {
   "cell_type": "code",
   "execution_count": 3,
   "id": "d6d70985-bcba-472c-bb45-25503f04186a",
   "metadata": {},
   "outputs": [
    {
     "data": {
      "text/html": [
       "<div>\n",
       "<style scoped>\n",
       "    .dataframe tbody tr th:only-of-type {\n",
       "        vertical-align: middle;\n",
       "    }\n",
       "\n",
       "    .dataframe tbody tr th {\n",
       "        vertical-align: top;\n",
       "    }\n",
       "\n",
       "    .dataframe thead th {\n",
       "        text-align: right;\n",
       "    }\n",
       "</style>\n",
       "<table border=\"1\" class=\"dataframe\">\n",
       "  <thead>\n",
       "    <tr style=\"text-align: right;\">\n",
       "      <th></th>\n",
       "      <th>SSA(m2/g)</th>\n",
       "      <th>Pore size(nm)</th>\n",
       "      <th>Pore Volume (cm3/g)</th>\n",
       "      <th>Potential</th>\n",
       "      <th>Nitrogen %</th>\n",
       "      <th>Id/Ig</th>\n",
       "      <th>Specific Capacitance</th>\n",
       "    </tr>\n",
       "  </thead>\n",
       "  <tbody>\n",
       "    <tr>\n",
       "      <th>0</th>\n",
       "      <td>630.0</td>\n",
       "      <td>1.50</td>\n",
       "      <td>0.0</td>\n",
       "      <td>0.25</td>\n",
       "      <td>0.0</td>\n",
       "      <td>0.0</td>\n",
       "      <td>80.0</td>\n",
       "    </tr>\n",
       "    <tr>\n",
       "      <th>1</th>\n",
       "      <td>1000.0</td>\n",
       "      <td>1.75</td>\n",
       "      <td>0.0</td>\n",
       "      <td>0.25</td>\n",
       "      <td>0.0</td>\n",
       "      <td>0.0</td>\n",
       "      <td>125.0</td>\n",
       "    </tr>\n",
       "    <tr>\n",
       "      <th>2</th>\n",
       "      <td>1500.0</td>\n",
       "      <td>2.50</td>\n",
       "      <td>0.0</td>\n",
       "      <td>0.25</td>\n",
       "      <td>0.0</td>\n",
       "      <td>0.0</td>\n",
       "      <td>175.0</td>\n",
       "    </tr>\n",
       "    <tr>\n",
       "      <th>3</th>\n",
       "      <td>1400.0</td>\n",
       "      <td>2.90</td>\n",
       "      <td>0.0</td>\n",
       "      <td>0.25</td>\n",
       "      <td>0.0</td>\n",
       "      <td>0.0</td>\n",
       "      <td>160.0</td>\n",
       "    </tr>\n",
       "    <tr>\n",
       "      <th>4</th>\n",
       "      <td>850.0</td>\n",
       "      <td>1.25</td>\n",
       "      <td>0.0</td>\n",
       "      <td>0.25</td>\n",
       "      <td>0.0</td>\n",
       "      <td>0.0</td>\n",
       "      <td>95.0</td>\n",
       "    </tr>\n",
       "  </tbody>\n",
       "</table>\n",
       "</div>"
      ],
      "text/plain": [
       "   SSA(m2/g)  Pore size(nm)  Pore Volume (cm3/g)  Potential  Nitrogen %  \\\n",
       "0      630.0           1.50                  0.0       0.25         0.0   \n",
       "1     1000.0           1.75                  0.0       0.25         0.0   \n",
       "2     1500.0           2.50                  0.0       0.25         0.0   \n",
       "3     1400.0           2.90                  0.0       0.25         0.0   \n",
       "4      850.0           1.25                  0.0       0.25         0.0   \n",
       "\n",
       "   Id/Ig  Specific Capacitance  \n",
       "0    0.0                  80.0  \n",
       "1    0.0                 125.0  \n",
       "2    0.0                 175.0  \n",
       "3    0.0                 160.0  \n",
       "4    0.0                  95.0  "
      ]
     },
     "execution_count": 3,
     "metadata": {},
     "output_type": "execute_result"
    }
   ],
   "source": [
    "df.head()"
   ]
  },
  {
   "cell_type": "code",
   "execution_count": 4,
   "id": "323bbd97-adee-4a00-b98b-d130f29002f4",
   "metadata": {},
   "outputs": [
    {
     "name": "stdout",
     "output_type": "stream",
     "text": [
      "<class 'pandas.core.frame.DataFrame'>\n",
      "RangeIndex: 558 entries, 0 to 557\n",
      "Data columns (total 7 columns):\n",
      " #   Column                Non-Null Count  Dtype  \n",
      "---  ------                --------------  -----  \n",
      " 0   SSA(m2/g)             558 non-null    float64\n",
      " 1   Pore size(nm)         558 non-null    float64\n",
      " 2   Pore Volume (cm3/g)   558 non-null    float64\n",
      " 3   Potential             558 non-null    float64\n",
      " 4   Nitrogen %            558 non-null    float64\n",
      " 5   Id/Ig                 558 non-null    float64\n",
      " 6   Specific Capacitance  558 non-null    float64\n",
      "dtypes: float64(7)\n",
      "memory usage: 30.6 KB\n"
     ]
    }
   ],
   "source": [
    "df.info()"
   ]
  },
  {
   "cell_type": "code",
   "execution_count": 5,
   "id": "8365a356-82f9-4fb0-9302-40201365c49e",
   "metadata": {},
   "outputs": [],
   "source": [
    "df['SSA(m2/g)'] = df['SSA(m2/g)']/1000"
   ]
  },
  {
   "cell_type": "code",
   "execution_count": 6,
   "id": "117ed14a-2fd7-480c-85b2-2d48bf2d1dfc",
   "metadata": {},
   "outputs": [
    {
     "data": {
      "text/html": [
       "<div>\n",
       "<style scoped>\n",
       "    .dataframe tbody tr th:only-of-type {\n",
       "        vertical-align: middle;\n",
       "    }\n",
       "\n",
       "    .dataframe tbody tr th {\n",
       "        vertical-align: top;\n",
       "    }\n",
       "\n",
       "    .dataframe thead th {\n",
       "        text-align: right;\n",
       "    }\n",
       "</style>\n",
       "<table border=\"1\" class=\"dataframe\">\n",
       "  <thead>\n",
       "    <tr style=\"text-align: right;\">\n",
       "      <th></th>\n",
       "      <th>SSA(m2/g)</th>\n",
       "      <th>Pore size(nm)</th>\n",
       "      <th>Pore Volume (cm3/g)</th>\n",
       "      <th>Potential</th>\n",
       "      <th>Nitrogen %</th>\n",
       "      <th>Id/Ig</th>\n",
       "      <th>Specific Capacitance</th>\n",
       "    </tr>\n",
       "  </thead>\n",
       "  <tbody>\n",
       "    <tr>\n",
       "      <th>0</th>\n",
       "      <td>0.63</td>\n",
       "      <td>1.50</td>\n",
       "      <td>0.0</td>\n",
       "      <td>0.25</td>\n",
       "      <td>0.0</td>\n",
       "      <td>0.0</td>\n",
       "      <td>80.0</td>\n",
       "    </tr>\n",
       "    <tr>\n",
       "      <th>1</th>\n",
       "      <td>1.00</td>\n",
       "      <td>1.75</td>\n",
       "      <td>0.0</td>\n",
       "      <td>0.25</td>\n",
       "      <td>0.0</td>\n",
       "      <td>0.0</td>\n",
       "      <td>125.0</td>\n",
       "    </tr>\n",
       "    <tr>\n",
       "      <th>2</th>\n",
       "      <td>1.50</td>\n",
       "      <td>2.50</td>\n",
       "      <td>0.0</td>\n",
       "      <td>0.25</td>\n",
       "      <td>0.0</td>\n",
       "      <td>0.0</td>\n",
       "      <td>175.0</td>\n",
       "    </tr>\n",
       "    <tr>\n",
       "      <th>3</th>\n",
       "      <td>1.40</td>\n",
       "      <td>2.90</td>\n",
       "      <td>0.0</td>\n",
       "      <td>0.25</td>\n",
       "      <td>0.0</td>\n",
       "      <td>0.0</td>\n",
       "      <td>160.0</td>\n",
       "    </tr>\n",
       "    <tr>\n",
       "      <th>4</th>\n",
       "      <td>0.85</td>\n",
       "      <td>1.25</td>\n",
       "      <td>0.0</td>\n",
       "      <td>0.25</td>\n",
       "      <td>0.0</td>\n",
       "      <td>0.0</td>\n",
       "      <td>95.0</td>\n",
       "    </tr>\n",
       "  </tbody>\n",
       "</table>\n",
       "</div>"
      ],
      "text/plain": [
       "   SSA(m2/g)  Pore size(nm)  Pore Volume (cm3/g)  Potential  Nitrogen %  \\\n",
       "0       0.63           1.50                  0.0       0.25         0.0   \n",
       "1       1.00           1.75                  0.0       0.25         0.0   \n",
       "2       1.50           2.50                  0.0       0.25         0.0   \n",
       "3       1.40           2.90                  0.0       0.25         0.0   \n",
       "4       0.85           1.25                  0.0       0.25         0.0   \n",
       "\n",
       "   Id/Ig  Specific Capacitance  \n",
       "0    0.0                  80.0  \n",
       "1    0.0                 125.0  \n",
       "2    0.0                 175.0  \n",
       "3    0.0                 160.0  \n",
       "4    0.0                  95.0  "
      ]
     },
     "execution_count": 6,
     "metadata": {},
     "output_type": "execute_result"
    }
   ],
   "source": [
    "df.head()"
   ]
  },
  {
   "cell_type": "code",
   "execution_count": 7,
   "id": "8ebd0eb2-0b79-45a7-9c06-1251fce85aa5",
   "metadata": {},
   "outputs": [],
   "source": [
    "df = df.rename(columns={'SSA(m2/g)': 'SSA','Pore size(nm)': 'PS', 'Pore Volume (cm3/g)': 'PV' , 'Nitrogen %':'NC' ,  'Specific Capacitance':'SC'})"
   ]
  },
  {
   "cell_type": "code",
   "execution_count": 8,
   "id": "179edc15-d174-47c6-98f6-69f091d3057d",
   "metadata": {},
   "outputs": [
    {
     "data": {
      "text/html": [
       "<div>\n",
       "<style scoped>\n",
       "    .dataframe tbody tr th:only-of-type {\n",
       "        vertical-align: middle;\n",
       "    }\n",
       "\n",
       "    .dataframe tbody tr th {\n",
       "        vertical-align: top;\n",
       "    }\n",
       "\n",
       "    .dataframe thead th {\n",
       "        text-align: right;\n",
       "    }\n",
       "</style>\n",
       "<table border=\"1\" class=\"dataframe\">\n",
       "  <thead>\n",
       "    <tr style=\"text-align: right;\">\n",
       "      <th></th>\n",
       "      <th>SSA</th>\n",
       "      <th>PS</th>\n",
       "      <th>PV</th>\n",
       "      <th>Potential</th>\n",
       "      <th>NC</th>\n",
       "      <th>Id/Ig</th>\n",
       "      <th>SC</th>\n",
       "    </tr>\n",
       "  </thead>\n",
       "  <tbody>\n",
       "    <tr>\n",
       "      <th>0</th>\n",
       "      <td>0.63</td>\n",
       "      <td>1.50</td>\n",
       "      <td>0.0</td>\n",
       "      <td>0.25</td>\n",
       "      <td>0.0</td>\n",
       "      <td>0.0</td>\n",
       "      <td>80.0</td>\n",
       "    </tr>\n",
       "    <tr>\n",
       "      <th>1</th>\n",
       "      <td>1.00</td>\n",
       "      <td>1.75</td>\n",
       "      <td>0.0</td>\n",
       "      <td>0.25</td>\n",
       "      <td>0.0</td>\n",
       "      <td>0.0</td>\n",
       "      <td>125.0</td>\n",
       "    </tr>\n",
       "    <tr>\n",
       "      <th>2</th>\n",
       "      <td>1.50</td>\n",
       "      <td>2.50</td>\n",
       "      <td>0.0</td>\n",
       "      <td>0.25</td>\n",
       "      <td>0.0</td>\n",
       "      <td>0.0</td>\n",
       "      <td>175.0</td>\n",
       "    </tr>\n",
       "    <tr>\n",
       "      <th>3</th>\n",
       "      <td>1.40</td>\n",
       "      <td>2.90</td>\n",
       "      <td>0.0</td>\n",
       "      <td>0.25</td>\n",
       "      <td>0.0</td>\n",
       "      <td>0.0</td>\n",
       "      <td>160.0</td>\n",
       "    </tr>\n",
       "    <tr>\n",
       "      <th>4</th>\n",
       "      <td>0.85</td>\n",
       "      <td>1.25</td>\n",
       "      <td>0.0</td>\n",
       "      <td>0.25</td>\n",
       "      <td>0.0</td>\n",
       "      <td>0.0</td>\n",
       "      <td>95.0</td>\n",
       "    </tr>\n",
       "  </tbody>\n",
       "</table>\n",
       "</div>"
      ],
      "text/plain": [
       "    SSA    PS   PV  Potential   NC  Id/Ig     SC\n",
       "0  0.63  1.50  0.0       0.25  0.0    0.0   80.0\n",
       "1  1.00  1.75  0.0       0.25  0.0    0.0  125.0\n",
       "2  1.50  2.50  0.0       0.25  0.0    0.0  175.0\n",
       "3  1.40  2.90  0.0       0.25  0.0    0.0  160.0\n",
       "4  0.85  1.25  0.0       0.25  0.0    0.0   95.0"
      ]
     },
     "execution_count": 8,
     "metadata": {},
     "output_type": "execute_result"
    }
   ],
   "source": [
    "df.head()"
   ]
  },
  {
   "cell_type": "code",
   "execution_count": 9,
   "id": "cc14ce2a-d4cf-4338-a0f4-c6e272aea0a7",
   "metadata": {},
   "outputs": [
    {
     "data": {
      "text/plain": [
       "SSA          441\n",
       "PS           177\n",
       "PV           223\n",
       "Potential     21\n",
       "NC           129\n",
       "Id/Ig        113\n",
       "SC           330\n",
       "dtype: int64"
      ]
     },
     "execution_count": 9,
     "metadata": {},
     "output_type": "execute_result"
    }
   ],
   "source": [
    "# check unique values in dataset\n",
    "df.apply(lambda x: len(x.unique()))"
   ]
  },
  {
   "cell_type": "code",
   "execution_count": 10,
   "id": "25f11979-4028-4579-bcd2-f47e63625bde",
   "metadata": {},
   "outputs": [
    {
     "data": {
      "text/html": [
       "<div>\n",
       "<style scoped>\n",
       "    .dataframe tbody tr th:only-of-type {\n",
       "        vertical-align: middle;\n",
       "    }\n",
       "\n",
       "    .dataframe tbody tr th {\n",
       "        vertical-align: top;\n",
       "    }\n",
       "\n",
       "    .dataframe thead th {\n",
       "        text-align: right;\n",
       "    }\n",
       "</style>\n",
       "<table border=\"1\" class=\"dataframe\">\n",
       "  <thead>\n",
       "    <tr style=\"text-align: right;\">\n",
       "      <th></th>\n",
       "      <th>SSA</th>\n",
       "      <th>PS</th>\n",
       "      <th>PV</th>\n",
       "      <th>Potential</th>\n",
       "      <th>NC</th>\n",
       "      <th>Id/Ig</th>\n",
       "      <th>SC</th>\n",
       "    </tr>\n",
       "  </thead>\n",
       "  <tbody>\n",
       "    <tr>\n",
       "      <th>count</th>\n",
       "      <td>558.000000</td>\n",
       "      <td>558.000000</td>\n",
       "      <td>558.000000</td>\n",
       "      <td>558.000000</td>\n",
       "      <td>558.000000</td>\n",
       "      <td>558.000000</td>\n",
       "      <td>558.000000</td>\n",
       "    </tr>\n",
       "    <tr>\n",
       "      <th>mean</th>\n",
       "      <td>1.166802</td>\n",
       "      <td>1.714821</td>\n",
       "      <td>0.867994</td>\n",
       "      <td>1.296057</td>\n",
       "      <td>1.329385</td>\n",
       "      <td>0.555733</td>\n",
       "      <td>188.130824</td>\n",
       "    </tr>\n",
       "    <tr>\n",
       "      <th>std</th>\n",
       "      <td>0.883202</td>\n",
       "      <td>2.616503</td>\n",
       "      <td>0.861877</td>\n",
       "      <td>0.792527</td>\n",
       "      <td>2.875535</td>\n",
       "      <td>0.798127</td>\n",
       "      <td>104.478231</td>\n",
       "    </tr>\n",
       "    <tr>\n",
       "      <th>min</th>\n",
       "      <td>0.000000</td>\n",
       "      <td>0.000000</td>\n",
       "      <td>0.000000</td>\n",
       "      <td>0.000000</td>\n",
       "      <td>0.000000</td>\n",
       "      <td>0.000000</td>\n",
       "      <td>0.000000</td>\n",
       "    </tr>\n",
       "    <tr>\n",
       "      <th>25%</th>\n",
       "      <td>0.461500</td>\n",
       "      <td>0.000000</td>\n",
       "      <td>0.238000</td>\n",
       "      <td>1.000000</td>\n",
       "      <td>0.000000</td>\n",
       "      <td>0.000000</td>\n",
       "      <td>120.000000</td>\n",
       "    </tr>\n",
       "    <tr>\n",
       "      <th>50%</th>\n",
       "      <td>1.016700</td>\n",
       "      <td>0.900000</td>\n",
       "      <td>0.690000</td>\n",
       "      <td>1.000000</td>\n",
       "      <td>0.000000</td>\n",
       "      <td>0.000000</td>\n",
       "      <td>176.500000</td>\n",
       "    </tr>\n",
       "    <tr>\n",
       "      <th>75%</th>\n",
       "      <td>1.641000</td>\n",
       "      <td>2.522500</td>\n",
       "      <td>1.295000</td>\n",
       "      <td>1.000000</td>\n",
       "      <td>1.137500</td>\n",
       "      <td>0.997500</td>\n",
       "      <td>247.750000</td>\n",
       "    </tr>\n",
       "    <tr>\n",
       "      <th>max</th>\n",
       "      <td>4.073000</td>\n",
       "      <td>27.200000</td>\n",
       "      <td>5.910000</td>\n",
       "      <td>4.000000</td>\n",
       "      <td>19.800000</td>\n",
       "      <td>4.540000</td>\n",
       "      <td>587.000000</td>\n",
       "    </tr>\n",
       "  </tbody>\n",
       "</table>\n",
       "</div>"
      ],
      "text/plain": [
       "              SSA          PS          PV   Potential          NC       Id/Ig  \\\n",
       "count  558.000000  558.000000  558.000000  558.000000  558.000000  558.000000   \n",
       "mean     1.166802    1.714821    0.867994    1.296057    1.329385    0.555733   \n",
       "std      0.883202    2.616503    0.861877    0.792527    2.875535    0.798127   \n",
       "min      0.000000    0.000000    0.000000    0.000000    0.000000    0.000000   \n",
       "25%      0.461500    0.000000    0.238000    1.000000    0.000000    0.000000   \n",
       "50%      1.016700    0.900000    0.690000    1.000000    0.000000    0.000000   \n",
       "75%      1.641000    2.522500    1.295000    1.000000    1.137500    0.997500   \n",
       "max      4.073000   27.200000    5.910000    4.000000   19.800000    4.540000   \n",
       "\n",
       "               SC  \n",
       "count  558.000000  \n",
       "mean   188.130824  \n",
       "std    104.478231  \n",
       "min      0.000000  \n",
       "25%    120.000000  \n",
       "50%    176.500000  \n",
       "75%    247.750000  \n",
       "max    587.000000  "
      ]
     },
     "execution_count": 10,
     "metadata": {},
     "output_type": "execute_result"
    }
   ],
   "source": [
    "df.describe()"
   ]
  },
  {
   "cell_type": "code",
   "execution_count": 11,
   "id": "62e0a66f-1d2f-4196-82e1-4d39d4bab673",
   "metadata": {},
   "outputs": [
    {
     "data": {
      "image/png": "[encoded data removed]",
      "text/plain": [
       "<Figure size 1000x600 with 2 Axes>"
      ]
     },
     "metadata": {},
     "output_type": "display_data"
    }
   ],
   "source": [
    "# Correlation heatmap\n",
    "plt.figure(figsize=(10, 6))\n",
    "sns.heatmap(df.corr(numeric_only=True), annot=True, cmap=\"crest\", fmt=\".2f\")\n",
    "#plt.title(\"Feature Correlation Heatmap\")\n",
    "plt.show()"
   ]
  },
  {
   "cell_type": "code",
   "execution_count": 12,
   "id": "88f2d841-fbf9-441b-a57e-7ccf84999f3b",
   "metadata": {},
   "outputs": [
    {
     "name": "stdout",
     "output_type": "stream",
     "text": [
      "\n",
      "Class Distribution:\n",
      "Output_Class\n",
      "1    187\n",
      "2    186\n",
      "3    185\n",
      "Name: count, dtype: int64\n"
     ]
    }
   ],
   "source": [
    "def assign_class(value):\n",
    "    if value <= 138:\n",
    "        return 1\n",
    "    elif value <= 223:\n",
    "        return 2\n",
    "    else:\n",
    "        return 3\n",
    "\n",
    "df['Output_Class'] = df['SC'].apply(assign_class)\n",
    "# Check the distribution of output classes\n",
    "print(\"\\nClass Distribution:\")\n",
    "print(df['Output_Class'].value_counts())"
   ]
  },
  {
   "cell_type": "code",
   "execution_count": 13,
   "id": "58dfe2df-9d57-4a9d-82f0-f2463f6291f6",
   "metadata": {},
   "outputs": [],
   "source": [
    "# split the data as df1,df2 and df3\n",
    "df1 = df[df['Output_Class'] == 1]\n",
    "df2 = df[df['Output_Class'] == 2]\n",
    "df3 = df[df['Output_Class'] == 3]"
   ]
  },
  {
   "cell_type": "code",
   "execution_count": 14,
   "id": "08bde9c3-9c80-4db9-97b9-0c4b3b121d9e",
   "metadata": {},
   "outputs": [
    {
     "data": {
      "text/html": [
       "<div>\n",
       "<style scoped>\n",
       "    .dataframe tbody tr th:only-of-type {\n",
       "        vertical-align: middle;\n",
       "    }\n",
       "\n",
       "    .dataframe tbody tr th {\n",
       "        vertical-align: top;\n",
       "    }\n",
       "\n",
       "    .dataframe thead th {\n",
       "        text-align: right;\n",
       "    }\n",
       "</style>\n",
       "<table border=\"1\" class=\"dataframe\">\n",
       "  <thead>\n",
       "    <tr style=\"text-align: right;\">\n",
       "      <th></th>\n",
       "      <th>SSA</th>\n",
       "      <th>PS</th>\n",
       "      <th>PV</th>\n",
       "      <th>Potential</th>\n",
       "      <th>NC</th>\n",
       "      <th>Id/Ig</th>\n",
       "      <th>Output_Class</th>\n",
       "    </tr>\n",
       "  </thead>\n",
       "  <tbody>\n",
       "    <tr>\n",
       "      <th>0</th>\n",
       "      <td>0.63</td>\n",
       "      <td>1.50</td>\n",
       "      <td>0.0</td>\n",
       "      <td>0.25</td>\n",
       "      <td>0.0</td>\n",
       "      <td>0.0</td>\n",
       "      <td>1</td>\n",
       "    </tr>\n",
       "    <tr>\n",
       "      <th>1</th>\n",
       "      <td>1.00</td>\n",
       "      <td>1.75</td>\n",
       "      <td>0.0</td>\n",
       "      <td>0.25</td>\n",
       "      <td>0.0</td>\n",
       "      <td>0.0</td>\n",
       "      <td>1</td>\n",
       "    </tr>\n",
       "    <tr>\n",
       "      <th>2</th>\n",
       "      <td>1.50</td>\n",
       "      <td>2.50</td>\n",
       "      <td>0.0</td>\n",
       "      <td>0.25</td>\n",
       "      <td>0.0</td>\n",
       "      <td>0.0</td>\n",
       "      <td>2</td>\n",
       "    </tr>\n",
       "    <tr>\n",
       "      <th>3</th>\n",
       "      <td>1.40</td>\n",
       "      <td>2.90</td>\n",
       "      <td>0.0</td>\n",
       "      <td>0.25</td>\n",
       "      <td>0.0</td>\n",
       "      <td>0.0</td>\n",
       "      <td>2</td>\n",
       "    </tr>\n",
       "    <tr>\n",
       "      <th>4</th>\n",
       "      <td>0.85</td>\n",
       "      <td>1.25</td>\n",
       "      <td>0.0</td>\n",
       "      <td>0.25</td>\n",
       "      <td>0.0</td>\n",
       "      <td>0.0</td>\n",
       "      <td>1</td>\n",
       "    </tr>\n",
       "  </tbody>\n",
       "</table>\n",
       "</div>"
      ],
      "text/plain": [
       "    SSA    PS   PV  Potential   NC  Id/Ig  Output_Class\n",
       "0  0.63  1.50  0.0       0.25  0.0    0.0             1\n",
       "1  1.00  1.75  0.0       0.25  0.0    0.0             1\n",
       "2  1.50  2.50  0.0       0.25  0.0    0.0             2\n",
       "3  1.40  2.90  0.0       0.25  0.0    0.0             2\n",
       "4  0.85  1.25  0.0       0.25  0.0    0.0             1"
      ]
     },
     "execution_count": 14,
     "metadata": {},
     "output_type": "execute_result"
    }
   ],
   "source": [
    "#drop specific capacitance column for classification\n",
    "# Drop column ''\n",
    "dfop = df.drop(columns=['SC'])\n",
    "#dfop = df.drop(columns=[df.columns[6]], inplace=True)\n",
    "dfop.head()"
   ]
  },
  {
   "cell_type": "code",
   "execution_count": 15,
   "id": "76f78cfb-fa5c-4c10-84d0-6d9b4c68311d",
   "metadata": {},
   "outputs": [
    {
     "name": "stdout",
     "output_type": "stream",
     "text": [
      "Unique SSA's count:441\n",
      "------------------------------------------\n",
      "Unique PS's count:177\n",
      "------------------------------------------\n",
      "Unique PV's count:223\n",
      "------------------------------------------\n",
      "Unique Potential's count:21\n",
      "------------------------------------------\n",
      "Unique NC's count:129\n",
      "------------------------------------------\n",
      "Unique Id/Ig's count:113\n",
      "------------------------------------------\n",
      "Unique Output_Class's count:3\n",
      "------------------------------------------\n",
      "\n",
      "[1 2 3]\n",
      "------------------------------------------\n"
     ]
    }
   ],
   "source": [
    "# Check Unique Values for each variable.\n",
    "for i in dfop.columns:\n",
    "  print(f\"Unique {i}'s count:{dfop[i].nunique()}\\n------------------------------------------\")\n",
    "  if i in dfop.columns:\n",
    "    if(dfop[i].nunique() < 12):\n",
    "      print(f\"\\n{dfop[i].unique()}\\n------------------------------------------\")\n",
    "     "
   ]
  },
  {
   "cell_type": "code",
   "execution_count": 16,
   "id": "db26c602-47ae-47d7-ab05-e67c49ed151e",
   "metadata": {},
   "outputs": [
    {
     "data": {
      "image/png": "[encoded data removed]",
      "text/plain": [
       "<Figure size 1000x600 with 2 Axes>"
      ]
     },
     "metadata": {},
     "output_type": "display_data"
    }
   ],
   "source": [
    "# Correlation heatmap\n",
    "plt.figure(figsize=(10, 6))\n",
    "sns.heatmap(dfop.corr(numeric_only=True), annot=True, cmap=\"crest\", fmt=\".2f\")\n",
    "#plt.title(\"Feature Correlation Heatmap\")\n",
    "plt.show()"
   ]
  },
  {
   "cell_type": "code",
   "execution_count": 17,
   "id": "1e3d88b2-b517-471e-9d23-39e51a5dc35f",
   "metadata": {},
   "outputs": [
    {
     "name": "stdout",
     "output_type": "stream",
     "text": [
      "C:\\Users\\RGIPT\\Documents\\Classification\n"
     ]
    }
   ],
   "source": [
    "import os\n",
    "print(os.getcwd())  # Shows the current working directory\n",
    "\n"
   ]
  },
  {
   "cell_type": "code",
   "execution_count": 18,
   "id": "a8568c31-0d06-48b6-9790-bb0e7043f124",
   "metadata": {},
   "outputs": [],
   "source": [
    "from sklearn.model_selection import train_test_split, learning_curve\n",
    "from sklearn.metrics import confusion_matrix, classification_report, roc_curve, auc, precision_recall_curve, accuracy_score "
   ]
  },
  {
   "cell_type": "code",
   "execution_count": 19,
   "id": "da501d04-8994-4c9e-a589-d83b5afd753e",
   "metadata": {},
   "outputs": [],
   "source": [
    "# To select all columns except the last one for X1, and the last column for y1 for  regression analysis of classes:\n",
    "Xop = dfop.iloc[:, :-1]  # Select all columns except the last one for features (X1)\n",
    "yop = dfop.iloc[:, -1]   # Select the last column as the target (y1)"
   ]
  },
  {
   "cell_type": "code",
   "execution_count": 20,
   "id": "5e3b9cf7-9fa5-41be-b8e9-b93d7e99d26e",
   "metadata": {},
   "outputs": [
    {
     "data": {
      "text/html": [
       "<div>\n",
       "<style scoped>\n",
       "    .dataframe tbody tr th:only-of-type {\n",
       "        vertical-align: middle;\n",
       "    }\n",
       "\n",
       "    .dataframe tbody tr th {\n",
       "        vertical-align: top;\n",
       "    }\n",
       "\n",
       "    .dataframe thead th {\n",
       "        text-align: right;\n",
       "    }\n",
       "</style>\n",
       "<table border=\"1\" class=\"dataframe\">\n",
       "  <thead>\n",
       "    <tr style=\"text-align: right;\">\n",
       "      <th></th>\n",
       "      <th>SSA</th>\n",
       "      <th>PS</th>\n",
       "      <th>PV</th>\n",
       "      <th>Potential</th>\n",
       "      <th>NC</th>\n",
       "      <th>Id/Ig</th>\n",
       "    </tr>\n",
       "  </thead>\n",
       "  <tbody>\n",
       "    <tr>\n",
       "      <th>0</th>\n",
       "      <td>0.63</td>\n",
       "      <td>1.50</td>\n",
       "      <td>0.0</td>\n",
       "      <td>0.25</td>\n",
       "      <td>0.0</td>\n",
       "      <td>0.0</td>\n",
       "    </tr>\n",
       "    <tr>\n",
       "      <th>1</th>\n",
       "      <td>1.00</td>\n",
       "      <td>1.75</td>\n",
       "      <td>0.0</td>\n",
       "      <td>0.25</td>\n",
       "      <td>0.0</td>\n",
       "      <td>0.0</td>\n",
       "    </tr>\n",
       "    <tr>\n",
       "      <th>2</th>\n",
       "      <td>1.50</td>\n",
       "      <td>2.50</td>\n",
       "      <td>0.0</td>\n",
       "      <td>0.25</td>\n",
       "      <td>0.0</td>\n",
       "      <td>0.0</td>\n",
       "    </tr>\n",
       "    <tr>\n",
       "      <th>3</th>\n",
       "      <td>1.40</td>\n",
       "      <td>2.90</td>\n",
       "      <td>0.0</td>\n",
       "      <td>0.25</td>\n",
       "      <td>0.0</td>\n",
       "      <td>0.0</td>\n",
       "    </tr>\n",
       "    <tr>\n",
       "      <th>4</th>\n",
       "      <td>0.85</td>\n",
       "      <td>1.25</td>\n",
       "      <td>0.0</td>\n",
       "      <td>0.25</td>\n",
       "      <td>0.0</td>\n",
       "      <td>0.0</td>\n",
       "    </tr>\n",
       "  </tbody>\n",
       "</table>\n",
       "</div>"
      ],
      "text/plain": [
       "    SSA    PS   PV  Potential   NC  Id/Ig\n",
       "0  0.63  1.50  0.0       0.25  0.0    0.0\n",
       "1  1.00  1.75  0.0       0.25  0.0    0.0\n",
       "2  1.50  2.50  0.0       0.25  0.0    0.0\n",
       "3  1.40  2.90  0.0       0.25  0.0    0.0\n",
       "4  0.85  1.25  0.0       0.25  0.0    0.0"
      ]
     },
     "execution_count": 20,
     "metadata": {},
     "output_type": "execute_result"
    }
   ],
   "source": [
    "Xop.head()"
   ]
  },
  {
   "cell_type": "code",
   "execution_count": 21,
   "id": "0ebab760-9b98-499d-a023-c2a298bffdc6",
   "metadata": {},
   "outputs": [
    {
     "data": {
      "text/plain": [
       "0    1\n",
       "1    1\n",
       "2    2\n",
       "3    2\n",
       "4    1\n",
       "Name: Output_Class, dtype: int64"
      ]
     },
     "execution_count": 21,
     "metadata": {},
     "output_type": "execute_result"
    }
   ],
   "source": [
    "yop.head()"
   ]
  },
  {
   "cell_type": "code",
   "execution_count": 22,
   "id": "3f8edbb3-462b-4a0c-b89f-fe189e1cbc1c",
   "metadata": {},
   "outputs": [],
   "source": [
    "# Split the data into training and testing sets\n",
    "from sklearn.model_selection import train_test_split, learning_curve\n",
    "X_trainc, X_testc, y_trainc, y_testc = train_test_split(Xop, yop, test_size=0.2, random_state=42)"
   ]
  },
  {
   "cell_type": "code",
   "execution_count": 23,
   "id": "3821bf1e-f0c5-4d6f-9772-c9a29e29f8f8",
   "metadata": {},
   "outputs": [],
   "source": [
    "#Scaler technique\n",
    "from sklearn.preprocessing import StandardScaler\n",
    "scaler = StandardScaler()\n",
    "X_trainc_scaler = scaler.fit_transform(X_trainc)\n",
    "X_testc_scaler = scaler.transform(X_testc)"
   ]
  },
  {
   "cell_type": "code",
   "execution_count": 24,
   "id": "f7343c3c-d540-4d89-a553-c542eeb7dbd4",
   "metadata": {},
   "outputs": [],
   "source": [
    "#Importing different classifier from sklearn\n",
    "from sklearn.neighbors import KNeighborsClassifier\n",
    "from sklearn.tree import DecisionTreeClassifier\n",
    "from sklearn import svm\n",
    "from sklearn.naive_bayes import GaussianNB\n",
    "from sklearn.gaussian_process.kernels import RBF\n",
    "from sklearn.gaussian_process import GaussianProcessClassifier\n",
    "from sklearn.neural_network import MLPClassifier\n",
    "from sklearn.ensemble import GradientBoostingClassifier\n",
    "from sklearn.ensemble import RandomForestClassifier, AdaBoostClassifier\n",
    "from sklearn.metrics import classification_report, accuracy_score"
   ]
  },
  {
   "cell_type": "code",
   "execution_count": 26,
   "id": "a6f31614-60f2-48d1-b353-d1de695576cc",
   "metadata": {},
   "outputs": [],
   "source": [
    "# Define scoring method\n",
    "scoring = 'accuracy'\n",
    "# Model building to train\n",
    "names = ['K Nearest Neighbors', 'Gaussian Process', 'Random Forest', 'Neural Net', 'AddaBoost', 'GradientBoost', 'Naive Bayes']\n",
    "Classifiers = [\n",
    "    KNeighborsClassifier(n_neighbors = 3),\n",
    "    GaussianProcessClassifier(1.0*RBF(1.0)),\n",
    "    #DecisionTreeClassifier(max_depth = 5),\n",
    "    RandomForestClassifier(max_depth = 5, n_estimators = 10, max_features = 1 ),\n",
    "    MLPClassifier(alpha = 1),\n",
    "    AdaBoostClassifier(),\n",
    "    GradientBoostingClassifier(random_state=42),\n",
    "    GaussianNB(),\n",
    "    \n",
    "    \n",
    "    ]\n"
   ]
  },
  {
   "cell_type": "code",
   "execution_count": 27,
   "id": "c77bddeb-0ed8-4843-989e-5e128751d7d8",
   "metadata": {},
   "outputs": [
    {
     "name": "stdout",
     "output_type": "stream",
     "text": [
      "K Nearest Neighbors\n",
      "Mean Absolute error (MAE1): 0.6428571428571429\n",
      "Root Mean Squared Error (RMSE): 0.9543135154205277\n",
      "Cohen's Kappa Score: 0.2427046263345195\n"
     ]
    },
    {
     "name": "stderr",
     "output_type": "stream",
     "text": [
      "C:\\Users\\RGIPT\\AppData\\Roaming\\Python\\Python312\\site-packages\\sklearn\\gaussian_process\\kernels.py:452: ConvergenceWarning: The optimal value found for dimension 0 of parameter k2__length_scale is close to the specified upper bound 100000.0. Increasing the bound and calling fit again may find a better value.\n",
      "  warnings.warn(\n"
     ]
    },
    {
     "name": "stdout",
     "output_type": "stream",
     "text": [
      "Gaussian Process\n",
      "Mean Absolute error (MAE1): 0.5357142857142857\n",
      "Root Mean Squared Error (RMSE): 0.8556534679079242\n",
      "Cohen's Kappa Score: 0.3556416578607491\n",
      "Random Forest\n",
      "Mean Absolute error (MAE1): 0.49107142857142855\n",
      "Root Mean Squared Error (RMSE): 0.7849021777084254\n",
      "Cohen's Kappa Score: 0.36295769640952713\n"
     ]
    },
    {
     "name": "stderr",
     "output_type": "stream",
     "text": [
      "C:\\Users\\RGIPT\\AppData\\Roaming\\Python\\Python312\\site-packages\\sklearn\\neural_network\\_multilayer_perceptron.py:691: ConvergenceWarning: Stochastic Optimizer: Maximum iterations (200) reached and the optimization hasn't converged yet.\n",
      "  warnings.warn(\n"
     ]
    },
    {
     "name": "stdout",
     "output_type": "stream",
     "text": [
      "Neural Net\n",
      "Mean Absolute error (MAE1): 0.49107142857142855\n",
      "Root Mean Squared Error (RMSE): 0.773443136703847\n",
      "Cohen's Kappa Score: 0.3512235488828468\n",
      "AddaBoost\n",
      "Mean Absolute error (MAE1): 0.49107142857142855\n",
      "Root Mean Squared Error (RMSE): 0.7618117502750551\n",
      "Cohen's Kappa Score: 0.32603201347935973\n",
      "GradientBoost\n",
      "Mean Absolute error (MAE1): 0.42857142857142855\n",
      "Root Mean Squared Error (RMSE): 0.6813851438692469\n",
      "Cohen's Kappa Score: 0.3842476395362734\n",
      "Naive Bayes\n",
      "Mean Absolute error (MAE1): 0.6160714285714286\n",
      "Root Mean Squared Error (RMSE): 0.9306295871996703\n",
      "Cohen's Kappa Score: 0.2779275583167272\n"
     ]
    }
   ],
   "source": [
    "from sklearn.metrics import cohen_kappa_score\n",
    "from sklearn.metrics import mean_squared_error, mean_absolute_error, r2_score\n",
    "\n",
    "#Test the algorithm on the test data set\n",
    "models = zip(names, Classifiers)\n",
    "for name, model in models:\n",
    "    model.fit(X_trainc, y_trainc)\n",
    "    y_predc = model.predict(X_testc)\n",
    "    print(name)\n",
    "    #print(f\"R2 Score (R21): {r2_score(y_testc, y_predc)}\")\n",
    "    print(f\"Mean Absolute error (MAE1): {mean_absolute_error(y_testc, y_predc)}\")\n",
    "    #print(f\"Mean Squared Error (MSE1): {mean_squared_error(y_testc, y_predc)}\")\n",
    "    print(f\"Root Mean Squared Error (RMSE): {np.sqrt(mean_squared_error(y_testc, y_predc))}\")\n",
    "    # Calculate Cohen's Kappa\n",
    "    print(f\"Cohen's Kappa Score: {cohen_kappa_score(y_testc, y_predc)}\")"
   ]
  },
  {
   "cell_type": "code",
   "execution_count": 28,
   "id": "52e2d55e-2fb5-4644-b77f-a80c7ecff1b7",
   "metadata": {},
   "outputs": [
    {
     "name": "stdout",
     "output_type": "stream",
     "text": [
      "K Nearest Neighbors\n",
      "Clasification report:               precision    recall  f1-score   support\n",
      "\n",
      "           1       0.50      0.62      0.55        34\n",
      "           2       0.52      0.35      0.42        43\n",
      "           3       0.59      0.69      0.63        35\n",
      "\n",
      "    accuracy                           0.54       112\n",
      "   macro avg       0.53      0.55      0.53       112\n",
      "weighted avg       0.53      0.54      0.53       112\n",
      "\n",
      "Gaussian Process\n",
      "Clasification report:               precision    recall  f1-score   support\n",
      "\n",
      "           1       0.56      0.71      0.62        34\n",
      "           2       0.52      0.40      0.45        43\n",
      "           3       0.69      0.71      0.70        35\n",
      "\n",
      "    accuracy                           0.59       112\n",
      "   macro avg       0.59      0.61      0.59       112\n",
      "weighted avg       0.58      0.59      0.58       112\n",
      "\n",
      "Random Forest\n",
      "Clasification report:               precision    recall  f1-score   support\n",
      "\n",
      "           1       0.57      0.74      0.64        34\n",
      "           2       0.45      0.33      0.38        43\n",
      "           3       0.62      0.66      0.64        35\n",
      "\n",
      "    accuracy                           0.55       112\n",
      "   macro avg       0.55      0.57      0.55       112\n",
      "weighted avg       0.54      0.55      0.54       112\n",
      "\n"
     ]
    },
    {
     "name": "stderr",
     "output_type": "stream",
     "text": [
      "C:\\Users\\RGIPT\\AppData\\Roaming\\Python\\Python312\\site-packages\\sklearn\\neural_network\\_multilayer_perceptron.py:691: ConvergenceWarning: Stochastic Optimizer: Maximum iterations (200) reached and the optimization hasn't converged yet.\n",
      "  warnings.warn(\n"
     ]
    },
    {
     "name": "stdout",
     "output_type": "stream",
     "text": [
      "Neural Net\n",
      "Clasification report:               precision    recall  f1-score   support\n",
      "\n",
      "           1       0.55      0.71      0.62        34\n",
      "           2       0.48      0.33      0.39        43\n",
      "           3       0.62      0.69      0.65        35\n",
      "\n",
      "    accuracy                           0.55       112\n",
      "   macro avg       0.55      0.57      0.55       112\n",
      "weighted avg       0.54      0.55      0.54       112\n",
      "\n",
      "AddaBoost\n",
      "Clasification report:               precision    recall  f1-score   support\n",
      "\n",
      "           1       0.57      0.62      0.59        34\n",
      "           2       0.48      0.49      0.48        43\n",
      "           3       0.65      0.57      0.61        35\n",
      "\n",
      "    accuracy                           0.55       112\n",
      "   macro avg       0.56      0.56      0.56       112\n",
      "weighted avg       0.56      0.55      0.55       112\n",
      "\n",
      "GradientBoost\n",
      "Clasification report:               precision    recall  f1-score   support\n",
      "\n",
      "           1       0.62      0.71      0.66        34\n",
      "           2       0.49      0.42      0.45        43\n",
      "           3       0.67      0.69      0.68        35\n",
      "\n",
      "    accuracy                           0.59       112\n",
      "   macro avg       0.59      0.60      0.59       112\n",
      "weighted avg       0.58      0.59      0.58       112\n",
      "\n",
      "Naive Bayes\n",
      "Clasification report:               precision    recall  f1-score   support\n",
      "\n",
      "           1       0.51      0.53      0.52        34\n",
      "           2       0.56      0.21      0.31        43\n",
      "           3       0.49      0.86      0.62        35\n",
      "\n",
      "    accuracy                           0.51       112\n",
      "   macro avg       0.52      0.53      0.48       112\n",
      "weighted avg       0.53      0.51      0.47       112\n",
      "\n"
     ]
    }
   ],
   "source": [
    "#Test the algorithm on the test data set\n",
    "models = zip(names, Classifiers)\n",
    "for name, model in models:\n",
    "    model.fit(X_trainc_scaler, y_trainc)\n",
    "    y_predc = model.predict(X_testc_scaler)\n",
    "    print(name)\n",
    "    #print(accuracy_score(y_testc, y_predc))\n",
    "    print(f\"Clasification report: {classification_report(y_testc, y_predc)}\")\n",
    "    "
   ]
  },
  {
   "cell_type": "code",
   "execution_count": 29,
   "id": "bb5e9b7a-6847-47be-928c-b7e71570eb23",
   "metadata": {},
   "outputs": [
    {
     "name": "stdout",
     "output_type": "stream",
     "text": [
      "K Nearest Neighbors\n",
      "Clasification report:               precision    recall  f1-score   support\n",
      "\n",
      "           1       0.45      0.50      0.47        34\n",
      "           2       0.52      0.35      0.42        43\n",
      "           3       0.51      0.66      0.57        35\n",
      "\n",
      "    accuracy                           0.49       112\n",
      "   macro avg       0.49      0.50      0.49       112\n",
      "weighted avg       0.49      0.49      0.48       112\n",
      "\n"
     ]
    },
    {
     "name": "stderr",
     "output_type": "stream",
     "text": [
      "C:\\Users\\RGIPT\\AppData\\Roaming\\Python\\Python312\\site-packages\\sklearn\\gaussian_process\\kernels.py:452: ConvergenceWarning: The optimal value found for dimension 0 of parameter k2__length_scale is close to the specified upper bound 100000.0. Increasing the bound and calling fit again may find a better value.\n",
      "  warnings.warn(\n"
     ]
    },
    {
     "name": "stdout",
     "output_type": "stream",
     "text": [
      "Gaussian Process\n",
      "Clasification report:               precision    recall  f1-score   support\n",
      "\n",
      "           1       0.51      0.68      0.58        34\n",
      "           2       0.63      0.28      0.39        43\n",
      "           3       0.58      0.80      0.67        35\n",
      "\n",
      "    accuracy                           0.56       112\n",
      "   macro avg       0.58      0.59      0.55       112\n",
      "weighted avg       0.58      0.56      0.54       112\n",
      "\n",
      "Random Forest\n",
      "Clasification report:               precision    recall  f1-score   support\n",
      "\n",
      "           1       0.52      0.68      0.59        34\n",
      "           2       0.55      0.42      0.47        43\n",
      "           3       0.69      0.69      0.69        35\n",
      "\n",
      "    accuracy                           0.58       112\n",
      "   macro avg       0.58      0.59      0.58       112\n",
      "weighted avg       0.58      0.58      0.58       112\n",
      "\n"
     ]
    },
    {
     "name": "stderr",
     "output_type": "stream",
     "text": [
      "C:\\Users\\RGIPT\\AppData\\Roaming\\Python\\Python312\\site-packages\\sklearn\\neural_network\\_multilayer_perceptron.py:691: ConvergenceWarning: Stochastic Optimizer: Maximum iterations (200) reached and the optimization hasn't converged yet.\n",
      "  warnings.warn(\n"
     ]
    },
    {
     "name": "stdout",
     "output_type": "stream",
     "text": [
      "Neural Net\n",
      "Clasification report:               precision    recall  f1-score   support\n",
      "\n",
      "           1       0.56      0.71      0.62        34\n",
      "           2       0.45      0.33      0.38        43\n",
      "           3       0.61      0.66      0.63        35\n",
      "\n",
      "    accuracy                           0.54       112\n",
      "   macro avg       0.54      0.56      0.54       112\n",
      "weighted avg       0.53      0.54      0.53       112\n",
      "\n",
      "AddaBoost\n",
      "Clasification report:               precision    recall  f1-score   support\n",
      "\n",
      "           1       0.57      0.62      0.59        34\n",
      "           2       0.48      0.49      0.48        43\n",
      "           3       0.65      0.57      0.61        35\n",
      "\n",
      "    accuracy                           0.55       112\n",
      "   macro avg       0.56      0.56      0.56       112\n",
      "weighted avg       0.56      0.55      0.55       112\n",
      "\n",
      "GradientBoost\n",
      "Clasification report:               precision    recall  f1-score   support\n",
      "\n",
      "           1       0.62      0.71      0.66        34\n",
      "           2       0.49      0.42      0.45        43\n",
      "           3       0.67      0.69      0.68        35\n",
      "\n",
      "    accuracy                           0.59       112\n",
      "   macro avg       0.59      0.60      0.59       112\n",
      "weighted avg       0.58      0.59      0.58       112\n",
      "\n",
      "Naive Bayes\n",
      "Clasification report:               precision    recall  f1-score   support\n",
      "\n",
      "           1       0.51      0.53      0.52        34\n",
      "           2       0.56      0.21      0.31        43\n",
      "           3       0.49      0.86      0.62        35\n",
      "\n",
      "    accuracy                           0.51       112\n",
      "   macro avg       0.52      0.53      0.48       112\n",
      "weighted avg       0.53      0.51      0.47       112\n",
      "\n"
     ]
    }
   ],
   "source": [
    "#Test the algorithm on the test data set\n",
    "models = zip(names, Classifiers)\n",
    "for name, model in models:\n",
    "    model.fit(X_trainc, y_trainc)\n",
    "    y_predc = model.predict(X_testc)\n",
    "    print(name)\n",
    "    #print(accuracy_score(y_testc, y_predc))\n",
    "    print(f\"Clasification report: {classification_report(y_testc, y_predc)}\")\n",
    "    "
   ]
  },
  {
   "cell_type": "code",
   "execution_count": 31,
   "id": "33c1fee9-c36c-4d10-afc9-86538eab8aeb",
   "metadata": {},
   "outputs": [
    {
     "name": "stdout",
     "output_type": "stream",
     "text": [
      "Clasification report:               precision    recall  f1-score   support\n",
      "\n",
      "           1       0.51      0.53      0.52        34\n",
      "           2       0.56      0.21      0.31        43\n",
      "           3       0.49      0.86      0.62        35\n",
      "\n",
      "    accuracy                           0.51       112\n",
      "   macro avg       0.52      0.53      0.48       112\n",
      "weighted avg       0.53      0.51      0.47       112\n",
      "\n"
     ]
    }
   ],
   "source": [
    "## SVM Classifier\n",
    "from sklearn.metrics import accuracy_score, precision_score, recall_score, f1_score, classification_report, confusion_matrix\n",
    "from sklearn.metrics import roc_curve, auc\n",
    "from sklearn import svm\n",
    "svm_classifier = svm.SVC(kernel = 'rbf')\n",
    "model.fit(X_trainc_scaler, y_trainc)\n",
    "y_predc = model.predict(X_testc_scaler)\n",
    "print(f\"Clasification report: {classification_report(y_testc, y_predc)}\")"
   ]
  },
  {
   "cell_type": "code",
   "execution_count": 33,
   "id": "293376da-73bc-4648-8c43-f615d2b1dfe4",
   "metadata": {},
   "outputs": [
    {
     "name": "stdout",
     "output_type": "stream",
     "text": [
      "SVM RBF\n",
      "              precision    recall  f1-score   support\n",
      "\n",
      "           1       0.54      0.79      0.64        34\n",
      "           2       0.57      0.37      0.45        43\n",
      "           3       0.71      0.69      0.70        35\n",
      "\n",
      "    accuracy                           0.60       112\n",
      "   macro avg       0.61      0.62      0.60       112\n",
      "weighted avg       0.60      0.60      0.59       112\n",
      "\n"
     ]
    }
   ],
   "source": [
    "# Define scoring method\n",
    "\n",
    "names = ['SVM RBF']\n",
    "Classifiers = [\n",
    "    svm.SVC(kernel = 'rbf')\n",
    "    \n",
    "    ]\n",
    "\n",
    "#Test the algorithm on the test data set\n",
    "models = zip(names, Classifiers)\n",
    "for name, model in models:\n",
    "    model.fit(X_trainc_scaler, y_trainc)\n",
    "    y_predc = model.predict(X_testc_scaler)\n",
    "    print(name)\n",
    "    #print(accuracy_score(y_test, y_pred))\n",
    "    print(classification_report(y_testc, y_predc))"
   ]
  },
  {
   "cell_type": "code",
   "execution_count": 34,
   "id": "37433fb8-07fe-4223-97e3-2e6bb7ba67f8",
   "metadata": {},
   "outputs": [
    {
     "name": "stdout",
     "output_type": "stream",
     "text": [
      "Decision Tree\n",
      "              precision    recall  f1-score   support\n",
      "\n",
      "           1       0.47      0.74      0.57        34\n",
      "           2       0.57      0.28      0.38        43\n",
      "           3       0.63      0.69      0.66        35\n",
      "\n",
      "    accuracy                           0.54       112\n",
      "   macro avg       0.56      0.57      0.54       112\n",
      "weighted avg       0.56      0.54      0.52       112\n",
      "\n"
     ]
    }
   ],
   "source": [
    "# Define scoring method\n",
    "\n",
    "names = ['Decision Tree']\n",
    "Classifiers = [\n",
    "    DecisionTreeClassifier(max_depth = 5),\n",
    "    \n",
    "    ]\n",
    "\n",
    "#Test the algorithm on the test data set\n",
    "models = zip(names, Classifiers)\n",
    "for name, model in models:\n",
    "    model.fit(X_trainc_scaler, y_trainc)\n",
    "    y_predc = model.predict(X_testc_scaler)\n",
    "    print(name)\n",
    "    #print(accuracy_score(y_test, y_pred))\n",
    "    print(classification_report(y_testc, y_predc))"
   ]
  },
  {
   "cell_type": "code",
   "execution_count": null,
   "id": "b1c304d4-65b3-43fb-927a-351cf7d48566",
   "metadata": {},
   "outputs": [],
   "source": []
  }
 ],
 "metadata": {
  "kernelspec": {
   "display_name": "Python 3 (ipykernel)",
   "language": "python",
   "name": "python3"
  },
  "language_info": {
   "codemirror_mode": {
    "name": "ipython",
    "version": 3
   },
   "file_extension": ".py",
   "mimetype": "text/x-python",
   "name": "python",
   "nbconvert_exporter": "python",
   "pygments_lexer": "ipython3",
   "version": "3.12.7"
  }
 },
 "nbformat": 4,
 "nbformat_minor": 5
}
